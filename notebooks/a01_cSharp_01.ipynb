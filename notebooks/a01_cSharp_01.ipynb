{
 "cells": [
  {
   "cell_type": "markdown",
   "id": "1a48a763-3e31-4a7d-bbd6-2b43a90454c2",
   "metadata": {},
   "source": [
    "# Introduction"
   ]
  },
  {
   "cell_type": "code",
   "execution_count": 1,
   "id": "21cb6913-1256-4db6-a58a-f6028639e070",
   "metadata": {},
   "outputs": [
    {
     "data": {
      "text/html": [
       "\r\n",
       "<div>\r\n",
       "    <div id='dotnet-interactive-this-cell-72819.Microsoft.DotNet.Interactive.Http.HttpPort' style='display: none'>\r\n",
       "        The below script needs to be able to find the current output cell; this is an easy method to get it.\r\n",
       "    </div>\r\n",
       "    <script type='text/javascript'>\r\n",
       "async function probeAddresses(probingAddresses) {\r\n",
       "    function timeout(ms, promise) {\r\n",
       "        return new Promise(function (resolve, reject) {\r\n",
       "            setTimeout(function () {\r\n",
       "                reject(new Error('timeout'))\r\n",
       "            }, ms)\r\n",
       "            promise.then(resolve, reject)\r\n",
       "        })\r\n",
       "    }\r\n",
       "\r\n",
       "    if (Array.isArray(probingAddresses)) {\r\n",
       "        for (let i = 0; i < probingAddresses.length; i++) {\r\n",
       "\r\n",
       "            let rootUrl = probingAddresses[i];\r\n",
       "\r\n",
       "            if (!rootUrl.endsWith('/')) {\r\n",
       "                rootUrl = `${rootUrl}/`;\r\n",
       "            }\r\n",
       "\r\n",
       "            try {\r\n",
       "                let response = await timeout(1000, fetch(`${rootUrl}discovery`, {\r\n",
       "                    method: 'POST',\r\n",
       "                    cache: 'no-cache',\r\n",
       "                    mode: 'cors',\r\n",
       "                    timeout: 1000,\r\n",
       "                    headers: {\r\n",
       "                        'Content-Type': 'text/plain'\r\n",
       "                    },\r\n",
       "                    body: probingAddresses[i]\r\n",
       "                }));\r\n",
       "\r\n",
       "                if (response.status == 200) {\r\n",
       "                    return rootUrl;\r\n",
       "                }\r\n",
       "            }\r\n",
       "            catch (e) { }\r\n",
       "        }\r\n",
       "    }\r\n",
       "}\r\n",
       "\r\n",
       "function loadDotnetInteractiveApi() {\r\n",
       "    probeAddresses([\"http://192.168.0.104:2048/\", \"http://192.168.0.107:2048/\", \"http://127.0.0.1:2048/\"])\r\n",
       "        .then((root) => {\r\n",
       "        // use probing to find host url and api resources\r\n",
       "        // load interactive helpers and language services\r\n",
       "        let dotnetInteractiveRequire = require.config({\r\n",
       "        context: '72819.Microsoft.DotNet.Interactive.Http.HttpPort',\r\n",
       "                paths:\r\n",
       "            {\r\n",
       "                'dotnet-interactive': `${root}resources`\r\n",
       "                }\r\n",
       "        }) || require;\r\n",
       "\r\n",
       "            window.dotnetInteractiveRequire = dotnetInteractiveRequire;\r\n",
       "\r\n",
       "            window.configureRequireFromExtension = function(extensionName, extensionCacheBuster) {\r\n",
       "                let paths = {};\r\n",
       "                paths[extensionName] = `${root}extensions/${extensionName}/resources/`;\r\n",
       "                \r\n",
       "                let internalRequire = require.config({\r\n",
       "                    context: extensionCacheBuster,\r\n",
       "                    paths: paths,\r\n",
       "                    urlArgs: `cacheBuster=${extensionCacheBuster}`\r\n",
       "                    }) || require;\r\n",
       "\r\n",
       "                return internalRequire\r\n",
       "            };\r\n",
       "        \r\n",
       "            dotnetInteractiveRequire([\r\n",
       "                    'dotnet-interactive/dotnet-interactive'\r\n",
       "                ],\r\n",
       "                function (dotnet) {\r\n",
       "                    dotnet.init(window);\r\n",
       "                },\r\n",
       "                function (error) {\r\n",
       "                    console.log(error);\r\n",
       "                }\r\n",
       "            );\r\n",
       "        })\r\n",
       "        .catch(error => {console.log(error);});\r\n",
       "    }\r\n",
       "\r\n",
       "// ensure `require` is available globally\r\n",
       "if ((typeof(require) !==  typeof(Function)) || (typeof(require.config) !== typeof(Function))) {\r\n",
       "    let require_script = document.createElement('script');\r\n",
       "    require_script.setAttribute('src', 'https://cdnjs.cloudflare.com/ajax/libs/require.js/2.3.6/require.min.js');\r\n",
       "    require_script.setAttribute('type', 'text/javascript');\r\n",
       "    \r\n",
       "    \r\n",
       "    require_script.onload = function() {\r\n",
       "        loadDotnetInteractiveApi();\r\n",
       "    };\r\n",
       "\r\n",
       "    document.getElementsByTagName('head')[0].appendChild(require_script);\r\n",
       "}\r\n",
       "else {\r\n",
       "    loadDotnetInteractiveApi();\r\n",
       "}\r\n",
       "\r\n",
       "    </script>\r\n",
       "</div>"
      ]
     },
     "metadata": {},
     "output_type": "display_data"
    },
    {
     "name": "stdout",
     "output_type": "stream",
     "text": [
      "Environment.Version: 9.0.5\n",
      "RuntimeInformation.FrameworkDescription: .NET 9.0.5\n"
     ]
    }
   ],
   "source": [
    "// Check .NET version\n",
    "using System;\n",
    "\n",
    "Console.WriteLine($\"Environment.Version: {Environment.Version}\");\n",
    "Console.WriteLine($\"RuntimeInformation.FrameworkDescription: {System.Runtime.InteropServices.RuntimeInformation.FrameworkDescription}\");"
   ]
  },
  {
   "cell_type": "markdown",
   "id": "6aa12b88-adc3-449c-972d-cfa1c96a5c32",
   "metadata": {},
   "source": [
    "# 1. Variables and Data Types"
   ]
  },
  {
   "cell_type": "code",
   "execution_count": 2,
   "id": "049d8144-39aa-486c-9ca7-596bec420ede",
   "metadata": {},
   "outputs": [
    {
     "name": "stdout",
     "output_type": "stream",
     "text": [
      "Age: 30, Price: 19.99, Active: True\n",
      "Name: Alice, Grade: A, Now: 6/4/2025 11:44:07 AM\n"
     ]
    }
   ],
   "source": [
    "// Basic data types\n",
    "int age = 30;                           // integer\n",
    "double price = 19.99;                   // floating point\n",
    "bool isActive = true;                   // boolean\n",
    "string name = \"Alice\";                  // string\n",
    "char grade = 'A';                       // single character\n",
    "DateTime now = DateTime.Now;            // date/time\n",
    "\n",
    "// Display them\n",
    "Console.WriteLine($\"Age: {age}, Price: {price}, Active: {isActive}\");\n",
    "Console.WriteLine($\"Name: {name}, Grade: {grade}, Now: {now}\");"
   ]
  },
  {
   "cell_type": "markdown",
   "id": "1ec13f62-feae-4b1c-a66f-1ca7e44749b3",
   "metadata": {},
   "source": [
    "# 2. Console Input/Output"
   ]
  },
  {
   "cell_type": "code",
   "execution_count": 11,
   "id": "c6afb783-5407-4b97-9763-d335251f6fe1",
   "metadata": {},
   "outputs": [
    {
     "name": "stdout",
     "output_type": "stream",
     "text": [
      "Enter your name: Hello, !\n"
     ]
    }
   ],
   "source": [
    "// Getting user input\n",
    "Console.Write(\"Enter your name: \");\n",
    "string userName = Console.ReadLine();\n",
    "Console.WriteLine($\"Hello, {userName}!\");\n",
    "\n"
   ]
  },
  {
   "cell_type": "code",
   "execution_count": 15,
   "id": "588d06f6-29eb-496a-96d5-94922e5e66cb",
   "metadata": {},
   "outputs": [
    {
     "name": "stdout",
     "output_type": "stream",
     "text": [
      "Enter your age (using hardcoded value 20): Next year you'll be 21\n"
     ]
    }
   ],
   "source": [
    "// Parse string\n",
    "Console.Write(\"Enter your age (using hardcoded value 20): \");\n",
    "string ageInput = \"20\";  // Note the double quotes\n",
    "int userAge = int.Parse(ageInput);\n",
    "Console.WriteLine($\"Next year you'll be {userAge + 1}\");"
   ]
  },
  {
   "cell_type": "markdown",
   "id": "0736e5be-8ebb-47d5-8156-d3b7552487ef",
   "metadata": {},
   "source": [
    "# 3. Control Structures"
   ]
  },
  {
   "cell_type": "code",
   "execution_count": 8,
   "id": "ea7b2c1d-7cf1-40d5-94ba-9297a79c4144",
   "metadata": {},
   "outputs": [
    {
     "name": "stdout",
     "output_type": "stream",
     "text": [
      "Enter a number (default 0): You entered: 0\n"
     ]
    }
   ],
   "source": [
    "// Safe input handling with default value\n",
    "Console.Write(\"Enter a number (default 0): \");\n",
    "string input = Console.ReadLine();\n",
    "int number = string.IsNullOrEmpty(input) ? 0 : int.Parse(input);\n",
    "\n",
    "Console.WriteLine($\"You entered: {number}\");"
   ]
  },
  {
   "cell_type": "code",
   "execution_count": 9,
   "id": "a822dfaf-1b1c-43a8-b62f-62d8bcb3d62f",
   "metadata": {},
   "outputs": [
    {
     "name": "stdout",
     "output_type": "stream",
     "text": [
      "Using test value: 42\n",
      "Positive number\n"
     ]
    }
   ],
   "source": [
    "// Hardcoded value for testing in Jupyter\n",
    "int number = 42; // Instead of reading from console\n",
    "Console.WriteLine($\"Using test value: {number}\");\n",
    "\n",
    "if (number > 0)\n",
    "{\n",
    "    Console.WriteLine(\"Positive number\");\n",
    "}\n",
    "else if (number < 0)\n",
    "{\n",
    "    Console.WriteLine(\"Negative number\");\n",
    "}\n",
    "else\n",
    "{\n",
    "    Console.WriteLine(\"Zero\");\n",
    "}"
   ]
  },
  {
   "cell_type": "code",
   "execution_count": 10,
   "id": "e002f8b0-6241-4ad0-9969-d4024f1ee713",
   "metadata": {},
   "outputs": [
    {
     "name": "stdout",
     "output_type": "stream",
     "text": [
      "For demonstration, we'll use number = 10\n",
      "Positive number\n"
     ]
    }
   ],
   "source": [
    "// Safe control structure example for Jupyter\n",
    "int number = 10; // Default value for demonstration\n",
    "\n",
    "Console.WriteLine(\"For demonstration, we'll use number = 10\");\n",
    "// Uncomment below to try with actual input (may not work in all Jupyter environments)\n",
    "// Console.Write(\"Enter a number: \");\n",
    "// string input = Console.ReadLine();\n",
    "// number = string.IsNullOrEmpty(input) ? 0 : int.Parse(input);\n",
    "\n",
    "if (number > 0)\n",
    "{\n",
    "    Console.WriteLine(\"Positive number\");\n",
    "}\n",
    "else if (number < 0)\n",
    "{\n",
    "    Console.WriteLine(\"Negative number\");\n",
    "}\n",
    "else\n",
    "{\n",
    "    Console.WriteLine(\"Zero\");\n",
    "}"
   ]
  },
  {
   "cell_type": "markdown",
   "id": "59808b90-538d-4fed-b1cb-a63a32dd9270",
   "metadata": {},
   "source": [
    "# 4. Collections"
   ]
  },
  {
   "cell_type": "code",
   "execution_count": 5,
   "id": "3b89b544-8fca-4cfc-9ae4-bcc0b1e7fcd1",
   "metadata": {},
   "outputs": [
    {
     "name": "stdout",
     "output_type": "stream",
     "text": [
      "First color: Red\n",
      "Banana\n",
      "Cherry\n",
      "Alice's age: 25\n"
     ]
    }
   ],
   "source": [
    "// Array (fixed size)\n",
    "string[] colors = { \"Red\", \"Green\", \"Blue\" };\n",
    "Console.WriteLine($\"First color: {colors[0]}\");\n",
    "\n",
    "// List (dynamic size)\n",
    "List<string> fruits = new List<string> { \"Apple\", \"Banana\" };\n",
    "fruits.Add(\"Cherry\");\n",
    "fruits.Remove(\"Apple\");\n",
    "\n",
    "foreach (string fruit in fruits)\n",
    "{\n",
    "    Console.WriteLine(fruit);\n",
    "}\n",
    "\n",
    "// Dictionary (key-value pairs)\n",
    "Dictionary<string, int> ages = new Dictionary<string, int>();\n",
    "ages[\"Alice\"] = 25;\n",
    "ages[\"Bob\"] = 30;\n",
    "\n",
    "Console.WriteLine($\"Alice's age: {ages[\"Alice\"]}\");"
   ]
  },
  {
   "cell_type": "markdown",
   "id": "d083d068-7b9a-4c07-ba3a-c8756ef35b9e",
   "metadata": {},
   "source": [
    "# 5. Functions"
   ]
  },
  {
   "cell_type": "code",
   "execution_count": 6,
   "id": "5b3fd724-8183-4feb-aad2-00ad28eac934",
   "metadata": {},
   "outputs": [
    {
     "name": "stdout",
     "output_type": "stream",
     "text": [
      "5 + 3 = 8\n",
      "Hello, Guest!\n",
      "Hello, Sarah!\n"
     ]
    }
   ],
   "source": [
    "// Basic function\n",
    "int Add(int a, int b)\n",
    "{\n",
    "    return a + b;\n",
    "}\n",
    "\n",
    "// Using the function\n",
    "int sum = Add(5, 3);\n",
    "Console.WriteLine($\"5 + 3 = {sum}\");\n",
    "\n",
    "// Function with default parameter\n",
    "void Greet(string name = \"Guest\")\n",
    "{\n",
    "    Console.WriteLine($\"Hello, {name}!\");\n",
    "}\n",
    "\n",
    "Greet();\n",
    "Greet(\"Sarah\");"
   ]
  },
  {
   "cell_type": "markdown",
   "id": "b72c5449-483f-4725-a775-bad7dec53669",
   "metadata": {},
   "source": [
    "# 6. Classes and Objects"
   ]
  },
  {
   "cell_type": "code",
   "execution_count": 7,
   "id": "00d9b50f-0c2d-4501-849e-6d737f543b08",
   "metadata": {},
   "outputs": [
    {
     "name": "stdout",
     "output_type": "stream",
     "text": [
      "The Hobbit by J.R.R. Tolkien, 310 pages\n"
     ]
    }
   ],
   "source": [
    "// Define a simple class\n",
    "public class Book\n",
    "{\n",
    "    // Properties\n",
    "    public string Title { get; set; }\n",
    "    public string Author { get; set; }\n",
    "    public int Pages { get; set; }\n",
    "    \n",
    "    // Constructor\n",
    "    public Book(string title, string author, int pages)\n",
    "    {\n",
    "        Title = title;\n",
    "        Author = author;\n",
    "        Pages = pages;\n",
    "    }\n",
    "    \n",
    "    // Method\n",
    "    public void DisplayInfo()\n",
    "    {\n",
    "        Console.WriteLine($\"{Title} by {Author}, {Pages} pages\");\n",
    "    }\n",
    "}\n",
    "\n",
    "// Create and use an object\n",
    "Book myBook = new Book(\"The Hobbit\", \"J.R.R. Tolkien\", 310);\n",
    "myBook.DisplayInfo();"
   ]
  },
  {
   "cell_type": "code",
   "execution_count": null,
   "id": "890aeeab-4dea-47ec-8152-45365a04fe22",
   "metadata": {},
   "outputs": [],
   "source": []
  }
 ],
 "metadata": {
  "kernelspec": {
   "display_name": ".NET (C#)",
   "language": "C#",
   "name": ".net-csharp"
  },
  "language_info": {
   "file_extension": ".cs",
   "mimetype": "text/x-csharp",
   "name": "C#",
   "pygments_lexer": "csharp",
   "version": "13.0"
  }
 },
 "nbformat": 4,
 "nbformat_minor": 5
}
